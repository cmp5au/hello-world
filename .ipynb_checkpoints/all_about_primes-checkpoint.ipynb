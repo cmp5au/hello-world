{
 "cells": [
  {
   "cell_type": "markdown",
   "id": "601a3953-1808-4907-b084-468f0e5f4de8",
   "metadata": {},
   "source": [
    "# General Prime functions"
   ]
  },
  {
   "cell_type": "code",
   "execution_count": 1,
   "id": "50fe6750-ee43-4e55-987d-27cb7a66e934",
   "metadata": {},
   "outputs": [],
   "source": [
    "import numpy as np"
   ]
  },
  {
   "cell_type": "code",
   "execution_count": 2,
   "id": "c01697e6-b623-4013-9239-b4cf163acd5b",
   "metadata": {},
   "outputs": [],
   "source": [
    "primes = [2, 3, 5, 7, 11, 13, 17, 19]\n",
    "\n",
    "# Generate primes up to 10 ** 6\n",
    "for n in range(21, 10 ** 6, 2):\n",
    "    append_n = True\n",
    "    for p in primes:\n",
    "        if n % p == 0:\n",
    "            append_n = False\n",
    "            break\n",
    "        elif p > n ** 0.5:\n",
    "            break\n",
    "    if append_n: primes.append(n)\n",
    "\n",
    "def is_prime(n):\n",
    "    for p in primes:\n",
    "        if n % p == 0:\n",
    "            return False\n",
    "        if p > n ** 0.5:\n",
    "            break\n",
    "    return True"
   ]
  },
  {
   "cell_type": "markdown",
   "id": "722a11b0-554e-49b6-a8d4-34e304a3e32d",
   "metadata": {},
   "source": [
    "## Project Euler #27"
   ]
  },
  {
   "cell_type": "code",
   "execution_count": 21,
   "id": "517512ad-a13d-4268-a4f0-4d0c98e4d109",
   "metadata": {},
   "outputs": [],
   "source": [
    "primes_under_1k = [p for p in primes if p < 1000]\n",
    "\n",
    "def quad_length_given_a(n, a, integer_list):\n",
    "    for i in range(1, len(integer_list) - n):\n",
    "        if integer_list[n] + i * (i + a) not in integer_list:\n",
    "            return i\n",
    "        \n",
    "possible_bs = primes[1:168]"
   ]
  },
  {
   "cell_type": "code",
   "execution_count": 22,
   "id": "78158d54-eeb6-4b3e-9f5b-fe4ce60437b0",
   "metadata": {},
   "outputs": [],
   "source": [
    "quad_lengths = dict()\n",
    "\n",
    "for a in range(-999, 1001, 2):\n",
    "    for i, b in enumerate(possible_bs):\n",
    "        quad_lengths[(a, b)] = quad_length_given_a(i + 1, a, primes)"
   ]
  },
  {
   "cell_type": "code",
   "execution_count": 23,
   "id": "9898e5ac-6301-46fa-ac85-552f5cb10fbc",
   "metadata": {},
   "outputs": [
    {
     "data": {
      "text/plain": [
       "((-61, 971), 71)"
      ]
     },
     "execution_count": 23,
     "metadata": {},
     "output_type": "execute_result"
    }
   ],
   "source": [
    "ql_list = list(zip(quad_lengths.keys(), quad_lengths.values()))\n",
    "ql_list[np.array(ql_list, dtype=object)[:, 1].argmax()]"
   ]
  },
  {
   "cell_type": "code",
   "execution_count": 27,
   "id": "9603f7d6-0347-4f2f-9323-7b4926944775",
   "metadata": {},
   "outputs": [
    {
     "data": {
      "text/plain": [
       "-59231"
      ]
     },
     "execution_count": 27,
     "metadata": {},
     "output_type": "execute_result"
    }
   ],
   "source": [
    "-61 * 971"
   ]
  },
  {
   "cell_type": "code",
   "execution_count": 26,
   "id": "916e4bdc-929e-45d7-8eaa-ff213c05c4da",
   "metadata": {},
   "outputs": [
    {
     "data": {
      "text/plain": [
       "80"
      ]
     },
     "execution_count": 26,
     "metadata": {},
     "output_type": "execute_result"
    }
   ],
   "source": [
    "quad_length_given_a(primes.index(1601), -79, primes)"
   ]
  },
  {
   "cell_type": "markdown",
   "id": "6c642f43-1312-42f1-85bc-6bbf1af4f208",
   "metadata": {},
   "source": [
    "# Project Euler #35"
   ]
  },
  {
   "cell_type": "code",
   "execution_count": 12,
   "id": "01dc2645-5161-4efc-9d00-3a3d073d957c",
   "metadata": {},
   "outputs": [
    {
     "data": {
      "text/plain": [
       "True"
      ]
     },
     "execution_count": 12,
     "metadata": {},
     "output_type": "execute_result"
    }
   ],
   "source": [
    "def is_circular_in_set(n, set_list):\n",
    "#     cyclic_perms = [int(str(n)[i:] + str(n)[:i]) for i in range(1, len(str(n)))]\n",
    "#     for perm in cyclic_perms:\n",
    "#         if perm not in set_list:\n",
    "#             print(perm, \"is not in\", set_list)\n",
    "#             return False\n",
    "#     return True\n",
    "    return all(perm in set_list for perm in [int(str(n)[i:] + str(n)[:i]) for i in range(1, len(str(n)))])\n",
    "\n",
    "is_circular_in_set(12345, [12345, 23451, 34512, 45123, 51234, 29401, 2885, 19204])"
   ]
  },
  {
   "cell_type": "code",
   "execution_count": null,
   "id": "9031dc56-d4bb-44d5-aa84-3d7399cbc916",
   "metadata": {},
   "outputs": [],
   "source": [
    "circular_primes = [prime for prime in primes if is_circular_in_set(prime, primes)]"
   ]
  },
  {
   "cell_type": "code",
   "execution_count": 14,
   "id": "d410f5be-28d0-4f94-94c3-89b86add66a9",
   "metadata": {},
   "outputs": [
    {
     "data": {
      "text/plain": [
       "55"
      ]
     },
     "execution_count": 14,
     "metadata": {},
     "output_type": "execute_result"
    }
   ],
   "source": [
    "len(circular_primes)"
   ]
  },
  {
   "cell_type": "markdown",
   "id": "90c153bd-33c0-4c61-a2f6-989cafc721b7",
   "metadata": {},
   "source": [
    "# Project Euler #37"
   ]
  },
  {
   "cell_type": "code",
   "execution_count": 18,
   "id": "97fdf4cd-4c3e-4673-8e0b-cac26cb6ac32",
   "metadata": {},
   "outputs": [
    {
     "data": {
      "text/plain": [
       "[2, 3, 5, 7, 23, 37, 53, 73, 313, 317, 373, 797, 3137, 3797, 739397]"
      ]
     },
     "execution_count": 18,
     "metadata": {},
     "output_type": "execute_result"
    }
   ],
   "source": [
    "def is_left_truncatable(p):\n",
    "    return all((int(str(p)[i:]) in primes for i in range(1, len(str(p)))))\n",
    "\n",
    "def is_right_truncatable(p):\n",
    "    return all((int(str(p)[:-i]) in primes for i in range(1, len(str(p)))))\n",
    "\n",
    "truncatable_primes = [p for p in primes if is_left_truncatable(p) and is_right_truncatable(p)]\n",
    "truncatable_primes"
   ]
  },
  {
   "cell_type": "markdown",
   "id": "f67bbbf6-1aa3-4eb4-93e4-39a556b3d0f5",
   "metadata": {},
   "source": [
    "sum(truncatable_primes[4:])"
   ]
  },
  {
   "cell_type": "code",
   "execution_count": 21,
   "id": "5e6195e3-a98f-46de-bf0e-52ff045cddeb",
   "metadata": {},
   "outputs": [
    {
     "data": {
      "text/plain": [
       "11"
      ]
     },
     "execution_count": 21,
     "metadata": {},
     "output_type": "execute_result"
    }
   ],
   "source": [
    "len(truncatable_primes[4:])"
   ]
  },
  {
   "cell_type": "markdown",
   "id": "e51d7155-5f14-4d11-b92b-62a13c599d24",
   "metadata": {},
   "source": [
    "# Project Euler #41"
   ]
  },
  {
   "cell_type": "code",
   "execution_count": 25,
   "id": "48a49235-97c2-449a-b163-8719041abf99",
   "metadata": {},
   "outputs": [],
   "source": [
    "def is_pandigital(n):\n",
    "    return (len(str(n)) <= 9 and\n",
    "            all((str(i) in str(n)\n",
    "                 for i in range(1, len(str(n)) + 1))))"
   ]
  },
  {
   "cell_type": "code",
   "execution_count": 35,
   "id": "81f6e40b-2ca6-4d23-8058-09a264acc48e",
   "metadata": {},
   "outputs": [],
   "source": [
    "pan_primes_to_10M = [p for p in primes if is_pandigital(p)]"
   ]
  },
  {
   "cell_type": "code",
   "execution_count": 2,
   "id": "2fb3404f-3055-4e11-9d06-71d1defbe7b3",
   "metadata": {},
   "outputs": [
    {
     "data": {
      "text/plain": [
       "7652413"
      ]
     },
     "execution_count": 2,
     "metadata": {},
     "output_type": "execute_result"
    }
   ],
   "source": [
    "from itertools import permutations\n",
    "\n",
    "def is_big_prime(n):\n",
    "    if n % 2 == 0: return False\n",
    "    for i in range(3, round(n**0.5) + 1, 2):\n",
    "        if n % i == 0: return False\n",
    "    return True\n",
    "\n",
    "big_pan_primes = [n for n in [int(''.join(seq)) for seq in list(permutations('1234567'))] if is_big_prime(n)]\n",
    "big_pan_primes[-1]"
   ]
  },
  {
   "cell_type": "markdown",
   "id": "8754f8c9-f62b-443a-bcbd-a0652ad07c39",
   "metadata": {},
   "source": [
    "# Project Euler #43"
   ]
  },
  {
   "cell_type": "code",
   "execution_count": 9,
   "id": "87a94ad8-86e0-4cc7-af15-30aed0d50490",
   "metadata": {},
   "outputs": [
    {
     "name": "stdout",
     "output_type": "stream",
     "text": [
      "[1406357289, 1430952867, 1460357289, 4106357289, 4130952867, 4160357289]\n"
     ]
    },
    {
     "data": {
      "text/plain": [
       "16695334890"
      ]
     },
     "execution_count": 9,
     "metadata": {},
     "output_type": "execute_result"
    }
   ],
   "source": [
    "substring_divisible_pans = []\n",
    "small_primes = [2, 3, 5, 7, 11, 13, 17]\n",
    "\n",
    "full_pan_n_strings = [''.join(seq) for seq in list(permutations('0123456789'))]\n",
    "for pan in full_pan_n_strings:\n",
    "    append_n = True\n",
    "    for i, p in enumerate(small_primes):\n",
    "        if int(pan[i+1 : i+4]) % p != 0:\n",
    "            append_n = False\n",
    "            break\n",
    "    if append_n: substring_divisible_pans.append(int(pan))\n",
    "        \n",
    "print(substring_divisible_pans)\n",
    "sum(substring_divisible_pans)"
   ]
  },
  {
   "cell_type": "markdown",
   "id": "11f4a183-2af0-4f11-8bdd-c427986fe0d4",
   "metadata": {},
   "source": [
    "# Project Euler #46"
   ]
  },
  {
   "cell_type": "code",
   "execution_count": 6,
   "id": "e6b4824e-6a9d-4684-8874-a85e4924be1c",
   "metadata": {},
   "outputs": [
    {
     "data": {
      "text/plain": [
       "{1, 5777, 5993}"
      ]
     },
     "execution_count": 6,
     "metadata": {},
     "output_type": "execute_result"
    }
   ],
   "source": [
    "# second_goldbach = set()\n",
    "double_squares = np.array([2 * n**2 for n in range(2240)])\n",
    "odds = {2 * n + 1 for n in range(5 * 10**6)}\n",
    "\n",
    "for p in primes[1:]:\n",
    "    odds -= set(double_squares + p)\n",
    "\n",
    "odds"
   ]
  },
  {
   "cell_type": "markdown",
   "id": "964e84cd-4d4b-4535-8a75-58635b4a7c59",
   "metadata": {},
   "source": [
    "# Project Euler #47"
   ]
  },
  {
   "cell_type": "code",
   "execution_count": 14,
   "id": "9fba9241-d453-4306-bc2e-8cab5c1df413",
   "metadata": {},
   "outputs": [
    {
     "ename": "KeyboardInterrupt",
     "evalue": "",
     "output_type": "error",
     "traceback": [
      "\u001b[0;31m---------------------------------------------------------------------------\u001b[0m",
      "\u001b[0;31mKeyboardInterrupt\u001b[0m                         Traceback (most recent call last)",
      "\u001b[0;32m/tmp/ipykernel_314704/1227710530.py\u001b[0m in \u001b[0;36m<module>\u001b[0;34m\u001b[0m\n\u001b[1;32m      1\u001b[0m \u001b[0mfour_prime_factors\u001b[0m \u001b[0;34m=\u001b[0m \u001b[0;34m[\u001b[0m\u001b[0;34m]\u001b[0m\u001b[0;34m\u001b[0m\u001b[0;34m\u001b[0m\u001b[0m\n\u001b[1;32m      2\u001b[0m \u001b[0;32mfor\u001b[0m \u001b[0mi\u001b[0m \u001b[0;32min\u001b[0m \u001b[0mrange\u001b[0m\u001b[0;34m(\u001b[0m\u001b[0;36m210\u001b[0m\u001b[0;34m,\u001b[0m \u001b[0;36m3\u001b[0m \u001b[0;34m*\u001b[0m \u001b[0;36m10\u001b[0m\u001b[0;34m**\u001b[0m\u001b[0;36m6\u001b[0m\u001b[0;34m)\u001b[0m\u001b[0;34m:\u001b[0m\u001b[0;34m\u001b[0m\u001b[0;34m\u001b[0m\u001b[0m\n\u001b[0;32m----> 3\u001b[0;31m     \u001b[0;32mif\u001b[0m \u001b[0msum\u001b[0m\u001b[0;34m(\u001b[0m\u001b[0;34m(\u001b[0m\u001b[0mi\u001b[0m \u001b[0;34m%\u001b[0m \u001b[0mp\u001b[0m \u001b[0;34m==\u001b[0m \u001b[0;36m0\u001b[0m \u001b[0;32mfor\u001b[0m \u001b[0mp\u001b[0m \u001b[0;32min\u001b[0m \u001b[0mprimes\u001b[0m\u001b[0;34m)\u001b[0m\u001b[0;34m)\u001b[0m \u001b[0;34m==\u001b[0m \u001b[0;36m4\u001b[0m\u001b[0;34m:\u001b[0m\u001b[0;34m\u001b[0m\u001b[0;34m\u001b[0m\u001b[0m\n\u001b[0m\u001b[1;32m      4\u001b[0m         \u001b[0mfour_prime_factors\u001b[0m\u001b[0;34m.\u001b[0m\u001b[0mappend\u001b[0m\u001b[0;34m(\u001b[0m\u001b[0mi\u001b[0m\u001b[0;34m)\u001b[0m\u001b[0;34m\u001b[0m\u001b[0;34m\u001b[0m\u001b[0m\n",
      "\u001b[0;32m/tmp/ipykernel_314704/1227710530.py\u001b[0m in \u001b[0;36m<genexpr>\u001b[0;34m(.0)\u001b[0m\n\u001b[1;32m      1\u001b[0m \u001b[0mfour_prime_factors\u001b[0m \u001b[0;34m=\u001b[0m \u001b[0;34m[\u001b[0m\u001b[0;34m]\u001b[0m\u001b[0;34m\u001b[0m\u001b[0;34m\u001b[0m\u001b[0m\n\u001b[1;32m      2\u001b[0m \u001b[0;32mfor\u001b[0m \u001b[0mi\u001b[0m \u001b[0;32min\u001b[0m \u001b[0mrange\u001b[0m\u001b[0;34m(\u001b[0m\u001b[0;36m210\u001b[0m\u001b[0;34m,\u001b[0m \u001b[0;36m3\u001b[0m \u001b[0;34m*\u001b[0m \u001b[0;36m10\u001b[0m\u001b[0;34m**\u001b[0m\u001b[0;36m6\u001b[0m\u001b[0;34m)\u001b[0m\u001b[0;34m:\u001b[0m\u001b[0;34m\u001b[0m\u001b[0;34m\u001b[0m\u001b[0m\n\u001b[0;32m----> 3\u001b[0;31m     \u001b[0;32mif\u001b[0m \u001b[0msum\u001b[0m\u001b[0;34m(\u001b[0m\u001b[0;34m(\u001b[0m\u001b[0mi\u001b[0m \u001b[0;34m%\u001b[0m \u001b[0mp\u001b[0m \u001b[0;34m==\u001b[0m \u001b[0;36m0\u001b[0m \u001b[0;32mfor\u001b[0m \u001b[0mp\u001b[0m \u001b[0;32min\u001b[0m \u001b[0mprimes\u001b[0m\u001b[0;34m)\u001b[0m\u001b[0;34m)\u001b[0m \u001b[0;34m==\u001b[0m \u001b[0;36m4\u001b[0m\u001b[0;34m:\u001b[0m\u001b[0;34m\u001b[0m\u001b[0;34m\u001b[0m\u001b[0m\n\u001b[0m\u001b[1;32m      4\u001b[0m         \u001b[0mfour_prime_factors\u001b[0m\u001b[0;34m.\u001b[0m\u001b[0mappend\u001b[0m\u001b[0;34m(\u001b[0m\u001b[0mi\u001b[0m\u001b[0;34m)\u001b[0m\u001b[0;34m\u001b[0m\u001b[0;34m\u001b[0m\u001b[0m\n",
      "\u001b[0;31mKeyboardInterrupt\u001b[0m: "
     ]
    }
   ],
   "source": [
    "four_prime_factors = []\n",
    "for i in range(210, 3 * 10**6):\n",
    "    if sum((i % p == 0 for p in primes)) == 4:\n",
    "        four_prime_factors.append(i)"
   ]
  },
  {
   "cell_type": "code",
   "execution_count": null,
   "id": "c1023ae9-210a-4f7b-b390-32b280cc5a86",
   "metadata": {},
   "outputs": [],
   "source": [
    "for i in range(len(four_prime_factors)):\n",
    "    if four_prime_factors[i:i+4] == list(range(four_prime_factors[i], four_prime_factors[i] + 4)):\n",
    "        print(four_prime_factors[i:i+4])\n",
    "        break"
   ]
  },
  {
   "cell_type": "markdown",
   "id": "3b26405a-0ccc-4917-9af6-024483d71351",
   "metadata": {},
   "source": [
    "# Project Euler #49"
   ]
  },
  {
   "cell_type": "code",
   "execution_count": 32,
   "id": "4158b195-3380-4e19-b755-749bd7b73bda",
   "metadata": {},
   "outputs": [
    {
     "name": "stdout",
     "output_type": "stream",
     "text": [
      "1487 4817 8147\n",
      "1487 4817 8147\n",
      "2969 6299 9629\n",
      "2969 6299 9629\n",
      "1487 4817 8147\n",
      "1487 4817 8147\n",
      "2969 6299 9629\n",
      "1487 4817 8147\n",
      "1487 4817 8147\n",
      "1487 4817 8147\n",
      "1487 4817 8147\n",
      "2969 6299 9629\n"
     ]
    }
   ],
   "source": [
    "from itertools import permutations\n",
    "\n",
    "def num_perms_contained(n, n_list):\n",
    "    perms = {int(''.join(s)) for s in set(permutations(str(n)))}\n",
    "#     print(perms)\n",
    "    return sum((perm in n_list for perm in perms))\n",
    "\n",
    "def four_digit_prime_perms(n, n_list):\n",
    "    perms = {int(''.join(s)) for s in set(permutations(str(n)))}\n",
    "    perms = {n for n in perms if n in four_digit_primes}\n",
    "\n",
    "four_digit_primes = [p for p in primes if len(str(p)) == 4]\n",
    "four_digit_semicyclic_primes = [p for p in four_digit_primes if num_perms_contained(p, four_digit_primes) >= 3]\n",
    "\n",
    "def four_digit_prime_perms(n, n_list):\n",
    "    perms = {int(''.join(s)) for s in set(permutations(str(n)))}\n",
    "    return {n for n in perms if n in four_digit_primes}\n",
    "\n",
    "def contains_arithmetic_sequence(l):\n",
    "    if len(l) < 3: return False\n",
    "    sl = sorted(list(l))\n",
    "    for i, a in enumerate(sl[: -2]):\n",
    "        for b in sl[i + 1 : -1]:\n",
    "            if (2 * b - a) in sl[i + 2 :]:\n",
    "                print(a, b, 2 * b - a)\n",
    "                return True\n",
    "            \n",
    "for p in four_digit_primes:\n",
    "    contains_arithmetic_sequence(four_digit_prime_perms(p, four_digit_primes))\n",
    "# four_digit_semicyclic_primes\n"
   ]
  },
  {
   "cell_type": "code",
   "execution_count": 29,
   "id": "1ad3cbb5-5d92-41f5-8040-0e903e97a240",
   "metadata": {},
   "outputs": [
    {
     "name": "stdout",
     "output_type": "stream",
     "text": [
      "{131, 3011, 3110, 1031, 1130, 1103, 113, 1301, 1013, 311, 3101, 1310}\n"
     ]
    },
    {
     "data": {
      "text/plain": [
       "5"
      ]
     },
     "execution_count": 29,
     "metadata": {},
     "output_type": "execute_result"
    }
   ],
   "source": [
    "num_perms_contained(1301, four_digit_primes)"
   ]
  },
  {
   "cell_type": "markdown",
   "id": "c6ba78a1-0d59-4898-ada3-690a8427579b",
   "metadata": {},
   "source": [
    "# Project Euler #50"
   ]
  },
  {
   "cell_type": "code",
   "execution_count": 43,
   "id": "c30c4121-3a79-4746-bbb9-1d056938642b",
   "metadata": {},
   "outputs": [
    {
     "data": {
      "text/plain": [
       "[0, 2, 5, 10, 17, 28, 41]"
      ]
     },
     "execution_count": 43,
     "metadata": {},
     "output_type": "execute_result"
    }
   ],
   "source": [
    "sum_of_primes = [sum(primes[:i]) for i in range(len(primes))]\n",
    "sum_of_primes[:7]"
   ]
  },
  {
   "cell_type": "code",
   "execution_count": 47,
   "id": "7553e078-1b75-49db-a8f3-e1e160f5ab7e",
   "metadata": {},
   "outputs": [
    {
     "data": {
      "text/plain": [
       "(997651, 543)"
      ]
     },
     "execution_count": 47,
     "metadata": {},
     "output_type": "execute_result"
    }
   ],
   "source": [
    "temp_max = (953, 21)\n",
    "for i, p in enumerate(sum_of_primes):\n",
    "    for j, q in enumerate(sum_of_primes[i + 1:]):\n",
    "        if q - p >= 10 ** 6:\n",
    "            break\n",
    "        if j >= temp_max[1]:\n",
    "            if q - p in primes:\n",
    "                temp_max = (q - p, j + 1)\n",
    "            \n",
    "temp_max"
   ]
  },
  {
   "cell_type": "markdown",
   "id": "90ecbfe5-186d-47ec-bc25-6b50da007bcb",
   "metadata": {},
   "source": [
    "# Project Euler #51"
   ]
  },
  {
   "cell_type": "code",
   "execution_count": 12,
   "id": "b24e6f7d-ccf5-4a68-b40c-5785feb22c57",
   "metadata": {},
   "outputs": [],
   "source": [
    "eight_family_primes = []\n",
    "\n",
    "# Checking other 5-digit numbers\n",
    "\n",
    "# # Checking 1-digit replacements\n",
    "# for i in range(1, 10**4):\n",
    "#     for j in range(5): # j is the index of the replaced number\n",
    "#         nums = [int(f\"{i:04d}\"[:j] + str(a) + f\"{i:04d}\"[j:]) for a in range(10)]\n",
    "#         if sum((num in primes for num in nums)) >= 8:\n",
    "#             eight_family_primes.append(min(nums))\n",
    "#     if i % 100 == 0: print(i // 100, \"% done\")\n",
    "            \n",
    "# Checking 2-digit replacements\n",
    "for i in range(1, 10**3):\n",
    "    for j in range(4): # j is the index of the first replaced number\n",
    "        for k in range(j + 1, 5): # k is the index of the second\n",
    "            nums = [int(f\"{i:03d}\"[:j] + str(a) + f\"{i:03d}\"[j:k] + str(a) + f\"{i:03d}\"[k:]) for a in range(10)]\n",
    "            if sum((num in primes for num in nums)) >= 8:\n",
    "                eight_family_primes.append(min(nums))\n",
    "                \n",
    "# Checking 3-digit replacements\n",
    "for i in range(1, 10**2):\n",
    "    for j in range(3):\n",
    "        for k in range(j + 1, 4):\n",
    "            for l in range(k + 1, 5):\n",
    "                nums = [int(f\"{i:02d}\"[:j] + str(a) + f\"{i:02d}\"[j:k] + str(a) + f\"{i:02d}\"[k:l] + str(a) + f\"{i:02d}\"[l:]) for a in range(10)]\n",
    "                if sum((num in primes for num in nums)) >= 8:\n",
    "                    eight_family_primes.append(min(nums))\n",
    "                    \n",
    "# Checking 4-digit replacements\n",
    "for i in range(1, 10**1):\n",
    "    for j in range(2):\n",
    "        for k in range(j + 1, 3):\n",
    "            for l in range(k + 1, 4):\n",
    "                for m in range(l + 1, 5):\n",
    "                    nums = [int(f\"{i:01d}\"[:j] + str(a) + f\"{i:01d}\"[j:k] + str(a) + f\"{i:01d}\"[k:l] + str(a) + f\"{i:01d}\"[l:m] + str(a) + f\"{i:01d}\"[m:]) for a in range(10)]\n",
    "                    if sum((num in primes for num in nums)) >= 8:\n",
    "                        eight_family_primes.append(min(nums))"
   ]
  },
  {
   "cell_type": "code",
   "execution_count": null,
   "id": "25e55044-bf44-488c-a66a-4df3ca5f005f",
   "metadata": {},
   "outputs": [],
   "source": [
    "# Checking 6-digit numbers\n",
    "\n",
    "# # Checking 1-digit replacements\n",
    "for i in range(10**5):\n",
    "    for j in range(6): # j is the index of the replaced number\n",
    "        nums = [int(f\"{i:05d}\"[:j] + str(a) + f\"{i:05d}\"[j:]) for a in range(10)]\n",
    "        if sum((num in primes for num in nums)) >= 8:\n",
    "            eight_family_primes.append(min(nums))\n",
    "#     if i % 100 == 0: print(i // 100, \"% done\")\n",
    "            \n",
    "# Checking 2-digit replacements\n",
    "for i in range(10**4):\n",
    "    for j in range(5): # j is the index of the first replaced number\n",
    "        for k in range(j + 1, 6): # k is the index of the second\n",
    "            nums = [int(f\"{i:04d}\"[:j] + str(a) + f\"{i:04d}\"[j:k] + str(a) + f\"{i:04d}\"[k:]) for a in range(10)]\n",
    "            if sum((num in primes for num in nums)) >= 8:\n",
    "                eight_family_primes.append(min(nums))\n",
    "                \n",
    "# Checking 3-digit replacements\n",
    "for i in range(10**3):\n",
    "    for j in range(4):\n",
    "        for k in range(j + 1, 5):\n",
    "            for l in range(k + 1, 6):\n",
    "                nums = [int(f\"{i:03d}\"[:j] + str(a) + f\"{i:03d}\"[j:k] + str(a) + f\"{i:03d}\"[k:l] + str(a) + f\"{i:03d}\"[l:]) for a in range(10)]\n",
    "                if sum((num in primes for num in nums)) >= 8:\n",
    "                    eight_family_primes.append(min(nums))\n",
    "                    \n",
    "# Checking 4-digit replacements\n",
    "for i in range(10**2):\n",
    "    for j in range(3):\n",
    "        for k in range(j + 1, 4):\n",
    "            for l in range(k + 1, 5):\n",
    "                for m in range(l + 1, 6):\n",
    "                    nums = [int(f\"{i:02d}\"[:j] + str(a) + f\"{i:02d}\"[j:k] + str(a) + f\"{i:02d}\"[k:l] + str(a) + f\"{i:02d}\"[l:m] + str(a) + f\"{i:02d}\"[m:]) for a in range(10)]\n",
    "                    if sum((num in primes for num in nums)) >= 8:\n",
    "                        eight_family_primes.append(min(nums))\n",
    "                        \n",
    "# Checking 4-digit replacements\n",
    "for i in range(10**1):\n",
    "    for j in range(2):\n",
    "        for k in range(j + 1, 3):\n",
    "            for l in range(k + 1, 4):\n",
    "                for m in range(l + 1, 5):\n",
    "                    for n in range(m + 1, 6):\n",
    "                        nums = [int(f\"{i:01d}\"[:j] + str(a) + f\"{i:01d}\"[j:k] + str(a) + f\"{i:01d}\"[k:l] + str(a) + f\"{i:01d}\"[l:m] + str(a) + f\"{i:01d}\"[m:n] + str(a) + f\"{i:01d}\"[n:]) for a in range(10)]\n",
    "                        if sum((num in primes for num in nums)) >= 8:\n",
    "                            eight_family_primes.append(min(nums))"
   ]
  },
  {
   "cell_type": "code",
   "execution_count": null,
   "id": "781637df-85e7-4f2f-be54-3021634149be",
   "metadata": {},
   "outputs": [],
   "source": [
    "eight_family_primes"
   ]
  },
  {
   "cell_type": "code",
   "execution_count": null,
   "id": "3277f937-2289-45a4-ba79-40452b757619",
   "metadata": {},
   "outputs": [],
   "source": []
  }
 ],
 "metadata": {
  "kernelspec": {
   "display_name": "Python 3 (ipykernel)",
   "language": "python",
   "name": "python3"
  },
  "language_info": {
   "codemirror_mode": {
    "name": "ipython",
    "version": 3
   },
   "file_extension": ".py",
   "mimetype": "text/x-python",
   "name": "python",
   "nbconvert_exporter": "python",
   "pygments_lexer": "ipython3",
   "version": "3.7.10"
  }
 },
 "nbformat": 4,
 "nbformat_minor": 5
}
