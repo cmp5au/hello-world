{
 "cells": [
  {
   "cell_type": "markdown",
   "id": "598c06bb-86b1-4168-a92d-70c65d3b499b",
   "metadata": {},
   "source": [
    "# Project Euler #26"
   ]
  },
  {
   "cell_type": "code",
   "execution_count": 1,
   "id": "3466dac1-34dc-4a2c-be1e-09be0454e2e6",
   "metadata": {},
   "outputs": [],
   "source": [
    "import numpy as np"
   ]
  },
  {
   "cell_type": "code",
   "execution_count": 15,
   "id": "31c7ff0e-6f3f-484f-ae10-a73f781df0b0",
   "metadata": {},
   "outputs": [],
   "source": [
    "def reciprocal_cycle_len(n):\n",
    "    if n <= 0: return 0\n",
    "    while n % 2 == 0:\n",
    "        n //= 2\n",
    "    while n % 5 == 0:\n",
    "        n //= 5\n",
    "    r = 0\n",
    "    for i in range(n):\n",
    "        r += (9 * 10 ** i)\n",
    "        r = r % n\n",
    "        if r == 0:\n",
    "            break\n",
    "    if r != 0:\n",
    "        raise Exception(\"Reciprocal cycle length exceeds n - 1, this shouldn't happen.\")\n",
    "    else:\n",
    "        return i + 1"
   ]
  },
  {
   "cell_type": "code",
   "execution_count": 16,
   "id": "934e818f-fcaa-46af-9976-62e9baf8eb1e",
   "metadata": {},
   "outputs": [],
   "source": [
    "reciprocal_cycle_lens = [reciprocal_cycle_len(x) for x in range(1, 1001)]"
   ]
  },
  {
   "cell_type": "code",
   "execution_count": 18,
   "id": "ecaaf74b-9f01-424e-8945-03c9a488af7b",
   "metadata": {},
   "outputs": [
    {
     "data": {
      "text/plain": [
       "(983, 982)"
      ]
     },
     "execution_count": 18,
     "metadata": {},
     "output_type": "execute_result"
    }
   ],
   "source": [
    "np.argmax(reciprocal_cycle_lens) + 1, max(reciprocal_cycle_lens)"
   ]
  },
  {
   "cell_type": "code",
   "execution_count": null,
   "id": "855f807c-a91b-4cd4-819a-c0c92a7cc251",
   "metadata": {},
   "outputs": [],
   "source": []
  }
 ],
 "metadata": {
  "kernelspec": {
   "display_name": "Python 3 (ipykernel)",
   "language": "python",
   "name": "python3"
  },
  "language_info": {
   "codemirror_mode": {
    "name": "ipython",
    "version": 3
   },
   "file_extension": ".py",
   "mimetype": "text/x-python",
   "name": "python",
   "nbconvert_exporter": "python",
   "pygments_lexer": "ipython3",
   "version": "3.7.10"
  }
 },
 "nbformat": 4,
 "nbformat_minor": 5
}
