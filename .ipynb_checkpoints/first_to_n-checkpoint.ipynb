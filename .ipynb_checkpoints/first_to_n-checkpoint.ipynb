{
 "cells": [
  {
   "cell_type": "markdown",
   "id": "ad0b0f60-6075-4cc4-87a6-28f37b949c7d",
   "metadata": {},
   "source": [
    "# Riddler of the week on 10 Dec 2021"
   ]
  },
  {
   "cell_type": "code",
   "execution_count": 25,
   "id": "1612fa86-e7d0-420b-9006-81214a837d14",
   "metadata": {},
   "outputs": [],
   "source": [
    "from collections import defaultdict\n",
    "import numpy as np\n",
    "from scipy.special import binom\n",
    "\n",
    "def first_to_n_dist(n,\n",
    "                    p,\n",
    "                    cur_dist={(0, 0) : 1},\n",
    "                    enforce_sum_to_one=True,\n",
    "                    disallow_bad_states=True):\n",
    "    '''\n",
    "    This function takes in a list of current scores with probabilities\n",
    "    as a dictionary cur_dist. If not provided, the game is assumed to\n",
    "    start at 0 - 0. The output is a probability distribution of scores,\n",
    "    encoded as a dictionary, where one team has n and the other team\n",
    "    has fewer than n.\n",
    "    \n",
    "    Parameters:\n",
    "        n :                   number at which the game is complete\n",
    "        \n",
    "        p :                   probability with which team A wins a point\n",
    "        \n",
    "        enforce_sum_to_one :  sanitizes cur_dist inputs for impossible\n",
    "                              distributions and ensures the returned\n",
    "                              distribution also sums to 1\n",
    "                              \n",
    "        disallow_bad_states : prevents game states where one side has\n",
    "                              more than n points\n",
    "                                  i.e. n = 2 and cur_dist = {(3, 3), 1}\n",
    "    '''\n",
    "    \n",
    "    new_dist = defaultdict(float)\n",
    "    \n",
    "    if enforce_sum_to_one:\n",
    "        if abs(sum(cur_dist.values()) - 1) > 1 ** -8:\n",
    "            raise Exception(\"cur_dist probabilities must sum to 1 (raised on head end)\")\n",
    "    \n",
    "    for score in cur_dist:\n",
    "        if max(score) >= n:\n",
    "            if disallow_bad_states and max(score) > n:\n",
    "                raise ValueError(\"cur_dist must not include any games which \" + \n",
    "                                 \"have already gone past n, or else the \" +\n",
    "                                 \"disallow_bad_states flag must be set to False\")\n",
    "            else:\n",
    "                new_dist[score] += cur_dist[score]\n",
    "        else: # there are points to be won\n",
    "            a = n - score[0]\n",
    "            b = n - score[1]\n",
    "            for i in range(a): # team A wins i points, team B wins b points\n",
    "                cprob = binom(b + i - 1, i) * (p ** i) * (1 - p) ** b\n",
    "                new_dist[(n - a + i, n)] += cur_dist[score] * cprob\n",
    "        \n",
    "            for j in range(b): # team A wins a points, team B wins j points\n",
    "                cprob = binom(a + j - 1, j) * (p ** a) * (1 - p) ** j\n",
    "                new_dist[(n, n - b + j)] += cur_dist[score] * cprob\n",
    "        \n",
    "    if enforce_sum_to_one:\n",
    "        if abs(sum(new_dist.values()) - 1) > 1 ** -8:\n",
    "            raise Exception(\"cur_dist probabilities must sum to 1 (raised on tail end)\")\n",
    "    \n",
    "    return new_dist"
   ]
  },
  {
   "cell_type": "code",
   "execution_count": 26,
   "id": "bd507ebe-735d-4691-b218-c228f3cb0ac2",
   "metadata": {},
   "outputs": [
    {
     "data": {
      "text/plain": [
       "0.9317336077289634"
      ]
     },
     "execution_count": 26,
     "metadata": {},
     "output_type": "execute_result"
    }
   ],
   "source": [
    "first_switch_dist = first_to_n_dist(15, 0.25)\n",
    "second_switch_dist = first_to_n_dist(30, 0.5, cur_dist=first_switch_dist)\n",
    "final_dist = first_to_n_dist(45, 0.75, cur_dist=second_switch_dist)\n",
    "\n",
    "sum({score: final_dist[score] for score in final_dist if score[0] == 45}.values())"
   ]
  }
 ],
 "metadata": {
  "kernelspec": {
   "display_name": "Python 3 (ipykernel)",
   "language": "python",
   "name": "python3"
  },
  "language_info": {
   "codemirror_mode": {
    "name": "ipython",
    "version": 3
   },
   "file_extension": ".py",
   "mimetype": "text/x-python",
   "name": "python",
   "nbconvert_exporter": "python",
   "pygments_lexer": "ipython3",
   "version": "3.7.10"
  }
 },
 "nbformat": 4,
 "nbformat_minor": 5
}
