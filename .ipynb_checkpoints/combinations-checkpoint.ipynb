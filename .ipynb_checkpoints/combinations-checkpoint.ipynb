{
 "cells": [
  {
   "cell_type": "markdown",
   "id": "b5c440f2-8e87-43ac-ae3b-c27ed044e5f5",
   "metadata": {},
   "source": [
    "# Project Euler #53"
   ]
  },
  {
   "cell_type": "code",
   "execution_count": 1,
   "id": "7a5367f6-4256-4b1c-aa17-c2be03155c44",
   "metadata": {},
   "outputs": [
    {
     "data": {
      "text/plain": [
       "1072"
      ]
     },
     "execution_count": 1,
     "metadata": {},
     "output_type": "execute_result"
    }
   ],
   "source": [
    "# 23C10, 24C9, 25C8, 28C7, 33C6, 44C5, 72C4 are all greater than 1M\n",
    "\n",
    "# incorrect calculation: (100 - 23 + 1) * 4 + (100 - 24 + 1) * 2 + (100 - 25 + 1) * 2 + (100 - 28 + 1) * 2 + (100 - 33 + 1) * 2 + (100 - 44 + 1) * 2 + (100 - 72 + 1) * 2"
   ]
  },
  {
   "cell_type": "code",
   "execution_count": 4,
   "id": "734fd1a7-2aa8-4aec-9f4b-374c74a8e253",
   "metadata": {},
   "outputs": [
    {
     "data": {
      "text/plain": [
       "4180.0"
      ]
     },
     "execution_count": 4,
     "metadata": {},
     "output_type": "execute_result"
    }
   ],
   "source": [
    "# Contained in the envelope of 23C10 -> 23C13 down to 100C10 -> 100C90 is\n",
    "91 * 92 / 2 - 3 * 4 / 2"
   ]
  },
  {
   "cell_type": "code",
   "execution_count": 5,
   "id": "7e8f6bf3-0c69-4cb8-89ff-f106daa8d104",
   "metadata": {},
   "outputs": [
    {
     "data": {
      "text/plain": [
       "4940"
      ]
     },
     "execution_count": 5,
     "metadata": {},
     "output_type": "execute_result"
    }
   ],
   "source": [
    "4180 + (100 - 24 + 1) * 2 + (100 - 25 + 1) * 2 + (100 - 28 + 1) * 2 + (100 - 33 + 1) * 2 + (100 - 44 + 1) * 2 + (100 - 72 + 1) * 2"
   ]
  },
  {
   "cell_type": "code",
   "execution_count": 10,
   "id": "a7679ab9-ba6c-48dd-95ab-a2baf425c26c",
   "metadata": {},
   "outputs": [
    {
     "data": {
      "text/plain": [
       "4075"
      ]
     },
     "execution_count": 10,
     "metadata": {},
     "output_type": "execute_result"
    }
   ],
   "source": [
    "from scipy.special import binom\n",
    "\n",
    "count = 0\n",
    "\n",
    "for n in range(101):\n",
    "    for k in range(3, n - 2):\n",
    "        if binom(n, k) > 10**6: count += 1\n",
    "            \n",
    "count"
   ]
  },
  {
   "cell_type": "code",
   "execution_count": null,
   "id": "390bd7e6-6ac4-42d4-89c8-6c95bb997924",
   "metadata": {},
   "outputs": [],
   "source": []
  }
 ],
 "metadata": {
  "kernelspec": {
   "display_name": "Python 3 (ipykernel)",
   "language": "python",
   "name": "python3"
  },
  "language_info": {
   "codemirror_mode": {
    "name": "ipython",
    "version": 3
   },
   "file_extension": ".py",
   "mimetype": "text/x-python",
   "name": "python",
   "nbconvert_exporter": "python",
   "pygments_lexer": "ipython3",
   "version": "3.7.10"
  }
 },
 "nbformat": 4,
 "nbformat_minor": 5
}
