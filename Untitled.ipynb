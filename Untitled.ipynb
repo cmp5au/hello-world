{
 "cells": [
  {
   "cell_type": "code",
   "execution_count": 2,
   "id": "136f2879-fba6-42eb-a18a-fe353d47fb3c",
   "metadata": {},
   "outputs": [],
   "source": [
    "import numpy as np\n",
    "import pandas as pd"
   ]
  },
  {
   "cell_type": "code",
   "execution_count": 2,
   "id": "185c4284-fb5f-43b2-b221-98b0a8e12e78",
   "metadata": {},
   "outputs": [],
   "source": [
    "def rabbit_path_counts(n, m):\n",
    "    '''Function to count the number\n",
    "    of paths that a rabbit with n holes\n",
    "    can take in m jumps, as a list of\n",
    "    length n starting from one end and\n",
    "    ending at the other.'''\n",
    "    if m <= 0:\n",
    "        raise ValueError(\"Number of jumps m must be positive\")\n",
    "    elif m == 1:\n",
    "        return [1] + ([2] * (n - 2)) + [1]\n",
    "    else:\n",
    "        previous_path_counts = rabbit_path_counts(n, m - 1)\n",
    "        return [(previous_path_counts[1:] + [0])[i] +\n",
    "                ([0] + previous_path_counts[:-1])[i]\n",
    "                for i in range(n)]"
   ]
  },
  {
   "cell_type": "code",
   "execution_count": 7,
   "id": "c16e454c-8030-4b3e-8385-abb9954c16b0",
   "metadata": {},
   "outputs": [
    {
     "name": "stdout",
     "output_type": "stream",
     "text": [
      "[1, 2, 2, 2, 1]\n",
      "[2, 3, 4, 3, 2]\n",
      "[3, 6, 6, 6, 3]\n",
      "[6, 9, 12, 9, 6]\n",
      "[9, 18, 18, 18, 9]\n",
      "[18, 27, 36, 27, 18]\n",
      "[27, 54, 54, 54, 27]\n",
      "[54, 81, 108, 81, 54]\n",
      "[81, 162, 162, 162, 81]\n"
     ]
    }
   ],
   "source": [
    "for i in range(1, 10):\n",
    "    print(rabbit_path_counts(5, i))"
   ]
  },
  {
   "cell_type": "code",
   "execution_count": 7,
   "id": "42db2411-840c-4140-9024-34707558c12f",
   "metadata": {},
   "outputs": [
    {
     "data": {
      "text/plain": [
       "192"
      ]
     },
     "execution_count": 7,
     "metadata": {},
     "output_type": "execute_result"
    }
   ],
   "source": [
    "def word_sum(s):\n",
    "    return sum(ord(char) for char in s.upper()) - 64 * len(s)\n",
    "\n",
    "def text_sum(s):\n",
    "    return [word_sum(word) for word in s.split()]\n",
    "\n",
    "word_df = pd.read_csv('p042_words.txt', sep=',')\n",
    "max((word_sum(word) for word in list(word_df.columns)))"
   ]
  },
  {
   "cell_type": "code",
   "execution_count": 8,
   "id": "528c0054-3fb8-4e65-a670-dc8dcbe07d5f",
   "metadata": {},
   "outputs": [],
   "source": [
    "triangular_nums = [(n * (n + 1)) // 2 for n in range(21)]"
   ]
  },
  {
   "cell_type": "code",
   "execution_count": 9,
   "id": "f843b76f-06f6-435b-b71b-ccc8c0032baf",
   "metadata": {},
   "outputs": [
    {
     "data": {
      "text/plain": [
       "162"
      ]
     },
     "execution_count": 9,
     "metadata": {},
     "output_type": "execute_result"
    }
   ],
   "source": [
    "count = 0\n",
    "for word in list(word_df.columns):\n",
    "    if word_sum(word) in triangular_nums: count += 1\n",
    "        \n",
    "count"
   ]
  },
  {
   "cell_type": "code",
   "execution_count": 8,
   "id": "2eb9d45d-1189-49ee-b2b1-c3857815face",
   "metadata": {},
   "outputs": [
    {
     "data": {
      "text/plain": [
       "9110846700"
      ]
     },
     "execution_count": 8,
     "metadata": {},
     "output_type": "execute_result"
    }
   ],
   "source": [
    "last_10_digs = [(n ** n) % (10 ** 10) for n in range(1, 1000)]\n",
    "sum(last_10_digs) % (10 ** 10)"
   ]
  },
  {
   "cell_type": "code",
   "execution_count": 3,
   "id": "0c4ab067-bb97-4f4e-a93e-f1a757014c11",
   "metadata": {},
   "outputs": [
    {
     "data": {
      "text/plain": [
       "10405071318"
      ]
     },
     "execution_count": 3,
     "metadata": {},
     "output_type": "execute_result"
    }
   ],
   "source": [
    "sum((n ** n) for n in range(11))"
   ]
  },
  {
   "cell_type": "code",
   "execution_count": null,
   "id": "62cd1598-68e3-4508-9fcd-116fdc3edca3",
   "metadata": {},
   "outputs": [],
   "source": []
  }
 ],
 "metadata": {
  "kernelspec": {
   "display_name": "Python 3 (ipykernel)",
   "language": "python",
   "name": "python3"
  },
  "language_info": {
   "codemirror_mode": {
    "name": "ipython",
    "version": 3
   },
   "file_extension": ".py",
   "mimetype": "text/x-python",
   "name": "python",
   "nbconvert_exporter": "python",
   "pygments_lexer": "ipython3",
   "version": "3.7.10"
  }
 },
 "nbformat": 4,
 "nbformat_minor": 5
}
