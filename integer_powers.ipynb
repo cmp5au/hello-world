{
 "cells": [
  {
   "cell_type": "markdown",
   "id": "7557260d-272a-4dc1-b795-12dc12b055fb",
   "metadata": {},
   "source": [
    "# Project Euler #29"
   ]
  },
  {
   "cell_type": "code",
   "execution_count": 1,
   "id": "b92d106d-7ab5-4694-bc10-d23743824e88",
   "metadata": {},
   "outputs": [
    {
     "data": {
      "text/plain": [
       "9183"
      ]
     },
     "execution_count": 1,
     "metadata": {},
     "output_type": "execute_result"
    }
   ],
   "source": [
    "col = set()\n",
    "\n",
    "for a in range(2, 101):\n",
    "    for b in range(2, 101):\n",
    "        col.add(a ** b)\n",
    "        \n",
    "len(col)"
   ]
  },
  {
   "cell_type": "code",
   "execution_count": 2,
   "id": "09a4d213-41ef-4bc9-adce-ae94c9235cbc",
   "metadata": {},
   "outputs": [
    {
     "data": {
      "text/plain": [
       "(328, 240, 149)"
      ]
     },
     "execution_count": 2,
     "metadata": {},
     "output_type": "execute_result"
    }
   ],
   "source": [
    "# number of powers of 2\n",
    "collection_2 = list()\n",
    "for i in range(1, 7):\n",
    "    for b in range(2, 101):\n",
    "        collection_2.append(i * b)\n",
    "\n",
    "# number of powers of 3\n",
    "collection_3 = list()\n",
    "for i in range(1, 5):\n",
    "    for b in range(2, 101):\n",
    "        collection_3.append(i * b)\n",
    "        \n",
    "# number of powers of 5, 6, 7, 10\n",
    "collection_large = list()\n",
    "for i in range(1, 3):\n",
    "    for b in range(2, 101):\n",
    "        collection_large.append(i * b)\n",
    "        \n",
    "len(set(collection_2)), len(set(collection_3)), len(set(collection_large))"
   ]
  },
  {
   "cell_type": "code",
   "execution_count": 3,
   "id": "6b64fb53-ad0a-4564-b336-659d7ba84a21",
   "metadata": {},
   "outputs": [
    {
     "data": {
      "text/plain": [
       "9183"
      ]
     },
     "execution_count": 3,
     "metadata": {},
     "output_type": "execute_result"
    }
   ],
   "source": [
    "328 + 240 + 4 * 149 + (99 - 18) * 99"
   ]
  },
  {
   "cell_type": "markdown",
   "id": "37beb502-d2ca-4f51-bbb9-a2f7e8a6c8eb",
   "metadata": {},
   "source": [
    "# Project Euler #30\n",
    "\n",
    "brute force method"
   ]
  },
  {
   "cell_type": "code",
   "execution_count": 8,
   "id": "4c47329b-d0dd-40bb-a8f8-daf25b83b538",
   "metadata": {},
   "outputs": [
    {
     "data": {
      "text/plain": [
       "(19316, [1634, 8208, 9474])"
      ]
     },
     "execution_count": 8,
     "metadata": {},
     "output_type": "execute_result"
    }
   ],
   "source": [
    "# checking the method against their example\n",
    "\n",
    "def is_fourth_power_digit_sum(n):\n",
    "    return n == sum([dig ** 4 for dig in [int(x) for x in str(n)]])\n",
    "        \n",
    "self_sum_4_num_list = [i for i in range(2, 99999) if is_fourth_power_digit_sum(i)]\n",
    "sum(self_sum_4_num_list), self_sum_4_num_list"
   ]
  },
  {
   "cell_type": "code",
   "execution_count": 10,
   "id": "6af1498a-5da6-437a-bd4e-24648a45e1e2",
   "metadata": {},
   "outputs": [
    {
     "data": {
      "text/plain": [
       "(443839, [4150, 4151, 54748, 92727, 93084, 194979])"
      ]
     },
     "execution_count": 10,
     "metadata": {},
     "output_type": "execute_result"
    }
   ],
   "source": [
    "def is_fifth_power_digit_sum(n):\n",
    "    return n == sum([dig ** 5 for dig in [int(x) for x in str(n)]])\n",
    "        \n",
    "self_sum_5_num_list = [i for i in range(2, 999999) if is_fifth_power_digit_sum(i)]\n",
    "sum(self_sum_5_num_list), self_sum_5_num_list"
   ]
  },
  {
   "cell_type": "code",
   "execution_count": null,
   "id": "839d9b13-c26d-4c0a-bf2b-c213b0920061",
   "metadata": {},
   "outputs": [],
   "source": []
  }
 ],
 "metadata": {
  "kernelspec": {
   "display_name": "Python 3 (ipykernel)",
   "language": "python",
   "name": "python3"
  },
  "language_info": {
   "codemirror_mode": {
    "name": "ipython",
    "version": 3
   },
   "file_extension": ".py",
   "mimetype": "text/x-python",
   "name": "python",
   "nbconvert_exporter": "python",
   "pygments_lexer": "ipython3",
   "version": "3.7.10"
  }
 },
 "nbformat": 4,
 "nbformat_minor": 5
}
