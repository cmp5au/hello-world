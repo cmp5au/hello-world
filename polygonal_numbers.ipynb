{
 "cells": [
  {
   "cell_type": "code",
   "execution_count": 1,
   "id": "8c4ef06c-866f-46d0-9c4a-ad9e5339dd97",
   "metadata": {},
   "outputs": [],
   "source": [
    "import numpy as np"
   ]
  },
  {
   "cell_type": "markdown",
   "id": "f769c9d2-278f-40ae-ae86-e41ba1f217fd",
   "metadata": {},
   "source": [
    "# Project Euler #44"
   ]
  },
  {
   "cell_type": "code",
   "execution_count": 14,
   "id": "7401ceb6-657d-488b-96a6-f2af3001d37e",
   "metadata": {},
   "outputs": [],
   "source": [
    "# generating polygonal numbers and testing ints for being polygonal\n",
    "\n",
    "triangular_1k = [(n * (n + 1)) // 2 for n in range(1000)]\n",
    "pentagonal_10k = [(n * (3 * n - 1)) // 2 for n in range(10000)]\n",
    "hexagonal_100k = [n * (2 * n - 1) for n in range(100000)]\n",
    "\n",
    "def is_perfect_square(n):\n",
    "    return round(n ** 0.5) ** 2 == n\n",
    "\n",
    "def is_triangular(n):\n",
    "    return is_perfect_square(8*n + 1)\n",
    "\n",
    "def is_pentagonal(n):\n",
    "    return is_perfect_square(24*n + 1) and round((24 * n + 1) ** 0.5) % 6 == 5\n",
    "\n",
    "def is_hexagonal(n):\n",
    "    return is_triangular(n) and round((8*n + 1)**0.5) % 4 == 3"
   ]
  },
  {
   "cell_type": "code",
   "execution_count": 10,
   "id": "bec51cb4-26fb-4782-9fdb-bb98eaf7d9cd",
   "metadata": {},
   "outputs": [
    {
     "data": {
      "text/plain": [
       "[(1560090, 7042750)]"
      ]
     },
     "execution_count": 10,
     "metadata": {},
     "output_type": "execute_result"
    }
   ],
   "source": [
    "sum_diff_pent_pairs = []\n",
    "for i, n in enumerate(pentagonal_10k):\n",
    "    for j, m in enumerate(pentagonal_10k[i+1 : (n + 2) // 3]):\n",
    "        if is_pentagonal(m-n) and is_pentagonal(m+n):\n",
    "            sum_diff_pent_pairs.append((n, m))\n",
    "            "
   ]
  },
  {
   "cell_type": "code",
   "execution_count": 11,
   "id": "ca2d88c9-b03c-4d33-b376-0a3d3b017a2f",
   "metadata": {},
   "outputs": [
    {
     "data": {
      "text/plain": [
       "5482660"
      ]
     },
     "execution_count": 11,
     "metadata": {},
     "output_type": "execute_result"
    }
   ],
   "source": [
    "sum_diff_pent_pairs[0][1]-sum_diff_pent_pairs[0][0]"
   ]
  },
  {
   "cell_type": "markdown",
   "id": "d72faf0c-799d-47bd-b997-5920c0599bd7",
   "metadata": {},
   "source": [
    "# Project Euler #45"
   ]
  },
  {
   "cell_type": "code",
   "execution_count": 15,
   "id": "00ee6791-1444-41c4-9bb2-6789387ba84f",
   "metadata": {},
   "outputs": [
    {
     "data": {
      "text/plain": [
       "[1, 40755, 1533776805]"
      ]
     },
     "execution_count": 15,
     "metadata": {},
     "output_type": "execute_result"
    }
   ],
   "source": [
    "trigintal_ns = [n for n in hexagonal_100k if is_pentagonal(n)]\n",
    "trigintal_ns[:5]"
   ]
  },
  {
   "cell_type": "code",
   "execution_count": null,
   "id": "aa6f6e68-bf80-41e4-ac09-da58902543c1",
   "metadata": {},
   "outputs": [],
   "source": []
  }
 ],
 "metadata": {
  "kernelspec": {
   "display_name": "Python 3 (ipykernel)",
   "language": "python",
   "name": "python3"
  },
  "language_info": {
   "codemirror_mode": {
    "name": "ipython",
    "version": 3
   },
   "file_extension": ".py",
   "mimetype": "text/x-python",
   "name": "python",
   "nbconvert_exporter": "python",
   "pygments_lexer": "ipython3",
   "version": "3.7.10"
  }
 },
 "nbformat": 4,
 "nbformat_minor": 5
}
