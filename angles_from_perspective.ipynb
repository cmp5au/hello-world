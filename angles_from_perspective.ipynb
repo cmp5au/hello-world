{
 "cells": [
  {
   "cell_type": "markdown",
   "id": "f572a850-fa27-40e7-890c-0be72bf14219",
   "metadata": {},
   "source": [
    "# December 17, 2021 -- Riddler Express"
   ]
  },
  {
   "cell_type": "code",
   "execution_count": 1,
   "id": "cede31ea-2e81-4430-be3d-647305b75f67",
   "metadata": {},
   "outputs": [],
   "source": [
    "import numpy as np"
   ]
  },
  {
   "cell_type": "code",
   "execution_count": 10,
   "id": "a4562e14-a2fd-479c-878e-82ba0fe854ed",
   "metadata": {},
   "outputs": [],
   "source": [
    "def angle_perspective(A, D):\n",
    "    '''\n",
    "    Take a plane angle A in radians, and consider it from a perspective\n",
    "    with a dihedral angle of D in radians away from the original plane\n",
    "    perspective. One of the lines in the original angle must\n",
    "    be collinear with or perpendicular to the line of intersection of the\n",
    "    original plane and the new plane of perspective. The output of this\n",
    "    function is the angle value from the new perspective, in radians.\n",
    "    '''\n",
    "    return np.arctan(np.tan(A) / np.cos(D))\n",
    "\n",
    "def reverse_angle_perspective(A_prime, D):\n",
    "    '''\n",
    "    The reverse process as described in the angle_perspective function.\n",
    "    Here you know the transformed angle, and you are trying to work backwards\n",
    "    to find the orignal plane angle.\n",
    "    '''\n",
    "    return np.arctan(np.tan(A_prime) * np.cos(D))"
   ]
  },
  {
   "cell_type": "code",
   "execution_count": 11,
   "id": "f5cdb880-320d-4c62-931b-0d5f0c9619ad",
   "metadata": {},
   "outputs": [
    {
     "data": {
      "text/plain": [
       "0.38025120669293344"
      ]
     },
     "execution_count": 11,
     "metadata": {},
     "output_type": "execute_result"
    }
   ],
   "source": [
    "2 * reverse_angle_perspective(np.pi / 6, np.arccos(1/3))"
   ]
  },
  {
   "cell_type": "code",
   "execution_count": 18,
   "id": "993e2518-ae60-4bb7-913e-d073849f2bf7",
   "metadata": {},
   "outputs": [
    {
     "data": {
      "text/plain": [
       "109.47122063449069"
      ]
     },
     "execution_count": 18,
     "metadata": {},
     "output_type": "execute_result"
    }
   ],
   "source": [
    "2 * angle_perspective(np.pi / 4, np.pi / 4) * 180 / np.pi"
   ]
  },
  {
   "cell_type": "code",
   "execution_count": 19,
   "id": "aa5ac8dd-c3ef-4470-8a1b-b85be7aecd38",
   "metadata": {},
   "outputs": [
    {
     "data": {
      "text/plain": [
       "109.47122063449069"
      ]
     },
     "execution_count": 19,
     "metadata": {},
     "output_type": "execute_result"
    }
   ],
   "source": [
    "# interesting \"coincidence\":\n",
    "np.arccos(-1 / 3) * 180 / np.pi"
   ]
  }
 ],
 "metadata": {
  "kernelspec": {
   "display_name": "Python 3 (ipykernel)",
   "language": "python",
   "name": "python3"
  },
  "language_info": {
   "codemirror_mode": {
    "name": "ipython",
    "version": 3
   },
   "file_extension": ".py",
   "mimetype": "text/x-python",
   "name": "python",
   "nbconvert_exporter": "python",
   "pygments_lexer": "ipython3",
   "version": "3.7.10"
  }
 },
 "nbformat": 4,
 "nbformat_minor": 5
}
