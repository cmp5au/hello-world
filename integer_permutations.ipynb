{
 "cells": [
  {
   "cell_type": "markdown",
   "id": "403889ae-e1a8-4064-8701-0d063d917824",
   "metadata": {},
   "source": [
    "# Project Euler #52"
   ]
  },
  {
   "cell_type": "code",
   "execution_count": 1,
   "id": "27a7c00c-1640-4664-a34e-911f5c0475cb",
   "metadata": {},
   "outputs": [
    {
     "name": "stdout",
     "output_type": "stream",
     "text": [
      "142857\n"
     ]
    }
   ],
   "source": [
    "# First thoughts: if digits of x == digits of 2x == ... == digits of 6x,\n",
    "# then x < 10 ** n / 6, where n is the number of digits in x.\n",
    "# Also, n >= 6, since the first digit gets permuted into 6 different digits.\n",
    "# Therefore that first digit must be 1.\n",
    "\n",
    "for i in range(120000, 2 * 10**5):\n",
    "    if all((sorted(str(i * n)) == sorted(str(i)) for n in range(2, 7))):\n",
    "        print(i)\n",
    "        break"
   ]
  },
  {
   "cell_type": "code",
   "execution_count": null,
   "id": "22821c33-2781-49ea-bc52-f9bab9c8a2fe",
   "metadata": {},
   "outputs": [],
   "source": []
  }
 ],
 "metadata": {
  "kernelspec": {
   "display_name": "Python 3 (ipykernel)",
   "language": "python",
   "name": "python3"
  },
  "language_info": {
   "codemirror_mode": {
    "name": "ipython",
    "version": 3
   },
   "file_extension": ".py",
   "mimetype": "text/x-python",
   "name": "python",
   "nbconvert_exporter": "python",
   "pygments_lexer": "ipython3",
   "version": "3.7.10"
  }
 },
 "nbformat": 4,
 "nbformat_minor": 5
}
