{
 "cells": [
  {
   "cell_type": "markdown",
   "id": "601a3953-1808-4907-b084-468f0e5f4de8",
   "metadata": {},
   "source": [
    "# General Prime functions"
   ]
  },
  {
   "cell_type": "code",
   "execution_count": 14,
   "id": "50fe6750-ee43-4e55-987d-27cb7a66e934",
   "metadata": {},
   "outputs": [],
   "source": [
    "import numpy as np"
   ]
  },
  {
   "cell_type": "code",
   "execution_count": 2,
   "id": "c01697e6-b623-4013-9239-b4cf163acd5b",
   "metadata": {},
   "outputs": [],
   "source": [
    "primes = [2, 3, 5, 7, 11, 13, 17, 19]\n",
    "\n",
    "# Generate primes up to 5000\n",
    "for n in range(21, 5000, 2):\n",
    "    append_n = True\n",
    "    for p in primes:\n",
    "        if n % p == 0:\n",
    "            append_n = False\n",
    "            break\n",
    "        elif p > n ** 0.5:\n",
    "            break\n",
    "    if append_n: primes.append(n)\n",
    "\n",
    "def is_prime(n):\n",
    "    for p in primes:\n",
    "        if n % p == 0:\n",
    "            return False\n",
    "        if p > n ** 0.5:\n",
    "            break\n",
    "    return True"
   ]
  },
  {
   "cell_type": "markdown",
   "id": "722a11b0-554e-49b6-a8d4-34e304a3e32d",
   "metadata": {},
   "source": [
    "## Project Euler #27"
   ]
  },
  {
   "cell_type": "code",
   "execution_count": 21,
   "id": "517512ad-a13d-4268-a4f0-4d0c98e4d109",
   "metadata": {},
   "outputs": [],
   "source": [
    "primes_under_1k = [p for p in primes if p < 1000]\n",
    "\n",
    "def quad_length_given_a(n, a, integer_list):\n",
    "    for i in range(1, len(integer_list) - n):\n",
    "        if integer_list[n] + i * (i + a) not in integer_list:\n",
    "            return i\n",
    "        \n",
    "possible_bs = primes[1:168]"
   ]
  },
  {
   "cell_type": "code",
   "execution_count": 22,
   "id": "78158d54-eeb6-4b3e-9f5b-fe4ce60437b0",
   "metadata": {},
   "outputs": [],
   "source": [
    "quad_lengths = dict()\n",
    "\n",
    "for a in range(-999, 1001, 2):\n",
    "    for i, b in enumerate(possible_bs):\n",
    "        quad_lengths[(a, b)] = quad_length_given_a(i + 1, a, primes)"
   ]
  },
  {
   "cell_type": "code",
   "execution_count": 23,
   "id": "9898e5ac-6301-46fa-ac85-552f5cb10fbc",
   "metadata": {},
   "outputs": [
    {
     "data": {
      "text/plain": [
       "((-61, 971), 71)"
      ]
     },
     "execution_count": 23,
     "metadata": {},
     "output_type": "execute_result"
    }
   ],
   "source": [
    "ql_list = list(zip(quad_lengths.keys(), quad_lengths.values()))\n",
    "ql_list[np.array(ql_list, dtype=object)[:, 1].argmax()]"
   ]
  },
  {
   "cell_type": "code",
   "execution_count": 27,
   "id": "9603f7d6-0347-4f2f-9323-7b4926944775",
   "metadata": {},
   "outputs": [
    {
     "data": {
      "text/plain": [
       "-59231"
      ]
     },
     "execution_count": 27,
     "metadata": {},
     "output_type": "execute_result"
    }
   ],
   "source": [
    "-61 * 971"
   ]
  },
  {
   "cell_type": "code",
   "execution_count": 26,
   "id": "916e4bdc-929e-45d7-8eaa-ff213c05c4da",
   "metadata": {},
   "outputs": [
    {
     "data": {
      "text/plain": [
       "80"
      ]
     },
     "execution_count": 26,
     "metadata": {},
     "output_type": "execute_result"
    }
   ],
   "source": [
    "quad_length_given_a(primes.index(1601), -79, primes)"
   ]
  },
  {
   "cell_type": "code",
   "execution_count": null,
   "id": "b87bcfba-7904-4cef-8c2a-6d60a0113521",
   "metadata": {},
   "outputs": [],
   "source": []
  }
 ],
 "metadata": {
  "kernelspec": {
   "display_name": "Python 3 (ipykernel)",
   "language": "python",
   "name": "python3"
  },
  "language_info": {
   "codemirror_mode": {
    "name": "ipython",
    "version": 3
   },
   "file_extension": ".py",
   "mimetype": "text/x-python",
   "name": "python",
   "nbconvert_exporter": "python",
   "pygments_lexer": "ipython3",
   "version": "3.7.10"
  }
 },
 "nbformat": 4,
 "nbformat_minor": 5
}
